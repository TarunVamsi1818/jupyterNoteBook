{
  "metadata": {
    "kernelspec": {
      "name": "python",
      "display_name": "Python (Pyodide)",
      "language": "python"
    },
    "language_info": {
      "codemirror_mode": {
        "name": "python",
        "version": 3
      },
      "file_extension": ".py",
      "mimetype": "text/x-python",
      "name": "python",
      "nbconvert_exporter": "python",
      "pygments_lexer": "ipython3",
      "version": "3.8"
    }
  },
  "nbformat_minor": 5,
  "nbformat": 4,
  "cells": [
    {
      "cell_type": "markdown",
      "source": "Data Science Tools and Ecosystem",
      "metadata": {},
      "id": "e7acdbae-56e0-4bf5-983a-486060d54333"
    },
    {
      "cell_type": "code",
      "source": "In this notebook, Data Science Tools and Ecosystem are summarized.",
      "metadata": {},
      "execution_count": null,
      "outputs": [],
      "id": "cc22c336-2c21-4200-8827-cbd2614a1848"
    },
    {
      "cell_type": "markdown",
      "source": "Objectives:\n    popular languages for data science\n    popular libraries used for data science\n    data science toole\n",
      "metadata": {},
      "id": "b923415a-fa06-4682-a3cb-a8bd978d3ccb"
    },
    {
      "cell_type": "code",
      "source": "Some of the popular languages that Data Scientists use are:\n    python\n    R\n    Scala\n    julia",
      "metadata": {},
      "execution_count": null,
      "outputs": [],
      "id": "5472d19c-4391-4d9d-896a-ce465637b000"
    },
    {
      "cell_type": "code",
      "source": "Some of the commonly used libraries used by Data Scientists include:\n    Numpy\n    pandas\n    seaborn\n    Scikit-learn\n    tensorFlow\n    keras",
      "metadata": {},
      "execution_count": null,
      "outputs": [],
      "id": "7b0009a2-41a6-4069-bae4-030418418a10"
    },
    {
      "cell_type": "code",
      "source": "Data Science Tools are :\n    R-Studio\n    Matlab\n    IBM Watson Studio",
      "metadata": {},
      "execution_count": null,
      "outputs": [],
      "id": "8a2b7dc9-c795-4180-b851-4c6e418e1fc5"
    },
    {
      "cell_type": "code",
      "source": "Below are a few examples of evaluating arithmetic expressions in Python:\n 5+5\n 10+1\n 1+1",
      "metadata": {},
      "execution_count": null,
      "outputs": [],
      "id": "ba09ad05-7f1e-4c7d-a1b7-351c06d7695b"
    },
    {
      "cell_type": "code",
      "source": "#This a simple arithmetic expression to mutiply then add integers\n(3*4)+5.",
      "metadata": {
        "trusted": true
      },
      "execution_count": 1,
      "outputs": [
        {
          "execution_count": 1,
          "output_type": "execute_result",
          "data": {
            "text/plain": "17.0"
          },
          "metadata": {}
        }
      ],
      "id": "30765c32-471c-448e-aed1-0b90fa9583aa"
    },
    {
      "cell_type": "code",
      "source": "#This will convert 200 minutes to hours by diving by 60\n200//60",
      "metadata": {
        "trusted": true
      },
      "execution_count": 2,
      "outputs": [
        {
          "execution_count": 2,
          "output_type": "execute_result",
          "data": {
            "text/plain": "3"
          },
          "metadata": {}
        }
      ],
      "id": "193977c8-a171-4f82-99f5-d4e6eee4428e"
    },
    {
      "cell_type": "markdown",
      "source": "Author\nVithanala Tarun Vamsi",
      "metadata": {},
      "id": "7717441d-70dc-4391-b65f-1741056691ae"
    }
  ]
}